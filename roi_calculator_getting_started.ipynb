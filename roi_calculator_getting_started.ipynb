{
 "cells": [
  {
   "cell_type": "markdown",
   "id": "b0c21420-4be7-4ee7-9ea8-d6db5365863a",
   "metadata": {},
   "source": [
    "# ROI Calculator using BiggerPockets Guide\n",
    "\n",
    "[Video Reference](https://www.youtube.com/watch?v=T_7vhsSBi7c)"
   ]
  },
  {
   "cell_type": "code",
   "execution_count": 41,
   "id": "c9d1e52a-4711-48b2-8fa2-c0bbc1abd6a8",
   "metadata": {},
   "outputs": [],
   "source": [
    "class Property():\n",
    "    def __init__(self, income, tax, insure, fees, tot_invest, util = 0):\n",
    "        self.income = income\n",
    "        self.tax = tax\n",
    "        self.insure = insure\n",
    "        self.util = util\n",
    "        self.fees = fees\n",
    "        self.tot_invest = tot_invest\n",
    "    \n",
    "    def __repr__(self):\n",
    "        return f'<Property | {self.income} | {self.tot_invest}>'\n",
    "\n",
    "    \n",
    "class ROI_calculator():\n",
    "    def __init__(self):\n",
    "        pass\n",
    "    \n",
    "    def req_num_input(self, query):\n",
    "        if query == 'income':\n",
    "            input_return = input(f'How much {query} do you expect to get from this property?')\n",
    "            while not input_return.isdigit():\n",
    "                input_return = input(f'That is not a valid input.  How much {query} do you expect to get from this property?  Use only numbers. No commas, No dollar signs')\n",
    "                \n",
    "        elif query in {'tax', 'insurance', 'fees'}:\n",
    "            input_return = input(f'How much do you pay monthly for {query}?')\n",
    "            while not input_return.isdigit():\n",
    "                input_return = input(f'That is not a valid input. How much do you pay monthly for {query}?  Use only numbers. No commas, No dollar signs')\n",
    "        elif query == 'total investment':\n",
    "            input_return = input(f'How much is your {query}?')\n",
    "            while not input_return.isdigit():\n",
    "                input_return = input(f'That is not a valid input. How much is your {query}?  Use only numbers. No commas, No dollar signs')\n",
    "        return int(input_return)\n",
    "    \n",
    "    def _calc_cash_on_cash_roi(self):\n",
    "        self.tot_expense = self.property.tax + self.property.insure + self.property.util + self.property.fees\n",
    "        self.montly_cashflow = self.property.income - self.tot_expense\n",
    "        self.yearly_cashflow = self.montly_cashflow * 12\n",
    "        self.cash_on_cash_roi = self.yearly_cashflow / self.property.tot_invest\n",
    "        print(f'Your ROI is {self.cash_on_cash_roi * 100}% with a montly cashflow of {self.montly_cashflow}, and an initial investment of {self.property.tot_invest}')\n",
    "    \n",
    "    def create_property(self):\n",
    "        income = self.req_num_input('income')\n",
    "        tax = self.req_num_input('tax')\n",
    "        insure = self.req_num_input('insurance')\n",
    "        fees = self.req_num_input('fees')\n",
    "        tot_invest = self.req_num_input('total investment')\n",
    "        self.property = Property(income, tax, insure, fees, tot_invest)\n",
    "        self._calc_cash_on_cash_roi()\n",
    "         \n",
    "    def edit_property(self):\n",
    "        input_return = input('Which propery would you like to edit?')\n",
    "        while input_return not in {'income', 'tax', 'insurance', 'fees', 'investment'}:\n",
    "            input_return = input(\"That is not a valid input.  Which propery would you like to edit? (income/tax/insurance/fees/investment)\")\n",
    "        if input_return == 'income':\n",
    "            self.property.income = self.req_num_input('income')\n",
    "        elif input_return == 'tax':\n",
    "            self.property.tax = self.req_num_input('tax')\n",
    "        elif input_return == 'insurance':\n",
    "            self.property.insure = self.req_num_input('insurance')\n",
    "        elif input_return == 'fees':\n",
    "            self.property.fees = self.req_num_input('fees')\n",
    "        elif input_return == 'investment':\n",
    "            self.property.tot_invest = self.req_num_input('total investment')\n",
    "        self._calc_cash_on_cash_roi()\n",
    "        \n",
    "        \n",
    "        "
   ]
  },
  {
   "cell_type": "code",
   "execution_count": 42,
   "id": "96a27dc5-c1bb-4692-9741-2fa09a3b305a",
   "metadata": {},
   "outputs": [],
   "source": [
    "calc = ROI_calculator()"
   ]
  },
  {
   "cell_type": "code",
   "execution_count": 43,
   "id": "36a347d8-7d04-42c9-848b-5179b480a190",
   "metadata": {},
   "outputs": [
    {
     "name": "stdin",
     "output_type": "stream",
     "text": [
      "How much income do you expect to get from this property? 2000\n",
      "How much do you pay monthly for tax? 150\n",
      "How much do you pay monthly for insurance? 100\n",
      "How much do you pay monthly for fees? 1300\n",
      "How much is your total investment? 50000\n"
     ]
    },
    {
     "name": "stdout",
     "output_type": "stream",
     "text": [
      "Your ROI is 10.8% with a montly cashflow of 450, and an initial investment of 50000\n"
     ]
    }
   ],
   "source": [
    "calc.create_property()"
   ]
  },
  {
   "cell_type": "code",
   "execution_count": 44,
   "id": "75f07873-c4c5-41a8-ac36-a2152fddf8c5",
   "metadata": {},
   "outputs": [
    {
     "name": "stdin",
     "output_type": "stream",
     "text": [
      "Which propery would you like to edit? investment\n",
      "How much is your total investment? 60000\n"
     ]
    },
    {
     "name": "stdout",
     "output_type": "stream",
     "text": [
      "Your ROI is 9.0% with a montly cashflow of 450, and an initial investment of 60000\n"
     ]
    }
   ],
   "source": [
    "calc.edit_property()"
   ]
  },
  {
   "cell_type": "code",
   "execution_count": 48,
   "id": "84569c23-71ac-4658-91f2-37e8cc7d15a6",
   "metadata": {},
   "outputs": [
    {
     "name": "stdout",
     "output_type": "stream",
     "text": [
      "Welcome to my ROI Calculator! Good luck on your investment!\n"
     ]
    },
    {
     "name": "stdin",
     "output_type": "stream",
     "text": [
      "How much income do you expect to get from this property? 2200\n",
      "How much do you pay monthly for tax? 150\n",
      "How much do you pay monthly for insurance? 100\n",
      "How much do you pay monthly for fees? 1360\n",
      "How much is your total investment? 50000\n"
     ]
    },
    {
     "name": "stdout",
     "output_type": "stream",
     "text": [
      "Your ROI is 14.16% with a montly cashflow of 590, and an initial investment of 50000\n"
     ]
    },
    {
     "name": "stdin",
     "output_type": "stream",
     "text": [
      "Would you like to edit your current calculation, start a new cacluation, or quit? (E/S/Q) s\n",
      "How much income do you expect to get from this property? 2000\n",
      "How much do you pay monthly for tax? 150\n",
      "How much do you pay monthly for insurance? 100\n",
      "How much do you pay monthly for fees? 1360\n",
      "How much is your total investment? 50000\n"
     ]
    },
    {
     "name": "stdout",
     "output_type": "stream",
     "text": [
      "Your ROI is 9.36% with a montly cashflow of 390, and an initial investment of 50000\n"
     ]
    },
    {
     "name": "stdin",
     "output_type": "stream",
     "text": [
      "Would you like to edit your current calculation, start a new cacluation, or quit? (E/S/Q) q\n"
     ]
    },
    {
     "name": "stdout",
     "output_type": "stream",
     "text": [
      "Thank you for using my calculator!  Goodbye!\n"
     ]
    }
   ],
   "source": [
    "def calculate_roi():\n",
    "    print('Welcome to my ROI Calculator! Good luck on your investment!')\n",
    "    calculator = ROI_calculator()\n",
    "    calculator.create_property()\n",
    "    while True:\n",
    "        desire = input(f'Would you like to edit your current calculation, start a new cacluation, or quit? (E/S/Q)')\n",
    "        while desire[0].lower() not in {'e','s','q'}:\n",
    "            desire = input(f'That was not a valid input.  Would you like to edit your current calculation, start a new cacluation, or quit? Use only E, S, or Q)')\n",
    "        if desire[0].lower() == 'e':\n",
    "            calculator.edit_property()\n",
    "        elif desire[0].lower() == 's':\n",
    "            calculator.create_property()\n",
    "        elif desire[0].lower() == 'q':\n",
    "            print('Thank you for using my calculator!  Goodbye!')\n",
    "            break\n",
    "        else:\n",
    "            print('SOMETHING WENT VERY WRONG!')\n",
    "            break\n",
    "            \n",
    "\n",
    "            \n",
    "calculate_roi()"
   ]
  },
  {
   "cell_type": "code",
   "execution_count": null,
   "id": "c3e406c8-a146-4a4b-8b77-dc91dad0ba65",
   "metadata": {},
   "outputs": [],
   "source": []
  }
 ],
 "metadata": {
  "kernelspec": {
   "display_name": "Python 3 (ipykernel)",
   "language": "python",
   "name": "python3"
  },
  "language_info": {
   "codemirror_mode": {
    "name": "ipython",
    "version": 3
   },
   "file_extension": ".py",
   "mimetype": "text/x-python",
   "name": "python",
   "nbconvert_exporter": "python",
   "pygments_lexer": "ipython3",
   "version": "3.8.13"
  }
 },
 "nbformat": 4,
 "nbformat_minor": 5
}
